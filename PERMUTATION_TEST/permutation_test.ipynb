{
 "cells": [
  {
   "cell_type": "code",
   "execution_count": 1,
   "id": "015268f6-97de-4fa5-b563-f119742737b9",
   "metadata": {
    "tags": []
   },
   "outputs": [],
   "source": [
    "import pandas as pd\n",
    "import numpy as np\n",
    "import matplotlib.pyplot as plt\n",
    "\n",
    "import pickle\n",
    "import random\n",
    "\n",
    "from lightgbm import LGBMClassifier\n",
    "from sklearn.model_selection import train_test_split\n",
    "from sklearn.metrics import accuracy_score, f1_score, classification_report"
   ]
  },
  {
   "cell_type": "markdown",
   "id": "dc701328-059b-471e-a20d-6e33e51bc1ff",
   "metadata": {},
   "source": [
    "# Observerd performance"
   ]
  },
  {
   "cell_type": "code",
   "execution_count": 2,
   "id": "fc856e4f-be60-4ca8-9597-9095b1ded287",
   "metadata": {
    "tags": []
   },
   "outputs": [],
   "source": [
    "single_drug = pd.read_csv('single_drug_id.csv')"
   ]
  },
  {
   "cell_type": "code",
   "execution_count": 3,
   "id": "27b73186-f9d1-486e-b21f-2f6d622834f4",
   "metadata": {
    "tags": []
   },
   "outputs": [],
   "source": [
    "X = single_drug.iloc[:,0:509] # ADMET + SSP + DTI\n",
    "y = single_drug.iloc[:,509] # Scaffold fold id"
   ]
  },
  {
   "cell_type": "code",
   "execution_count": 4,
   "id": "29b3d04f-99d2-4958-83ce-dcc64709d16e",
   "metadata": {
    "tags": []
   },
   "outputs": [],
   "source": [
    "X_train, X_test, y_train, y_test = train_test_split(X.values, y, test_size=0.2, random_state=42)"
   ]
  },
  {
   "cell_type": "code",
   "execution_count": null,
   "id": "3e3862ea-9683-4241-a754-44ef4f19cec4",
   "metadata": {
    "tags": []
   },
   "outputs": [
    {
     "name": "stderr",
     "output_type": "stream",
     "text": [
      "/root/miniconda3/envs/rapids-24.04/lib/python3.11/site-packages/sklearn/utils/deprecation.py:151: FutureWarning: 'force_all_finite' was renamed to 'ensure_all_finite' in 1.6 and will be removed in 1.8.\n",
      "  warnings.warn(\n"
     ]
    }
   ],
   "source": [
    "model = LGBMClassifier(verbose = 0)\n",
    "model.fit(X_train, y_train)\n",
    "preds = model.predict(X_test)"
   ]
  },
  {
   "cell_type": "code",
   "execution_count": 10,
   "id": "8bdbe2a0-38c0-4863-ad35-87d93ea15121",
   "metadata": {
    "tags": []
   },
   "outputs": [
    {
     "name": "stdout",
     "output_type": "stream",
     "text": [
      "              precision    recall  f1-score   support\n",
      "\n",
      "           0       0.37      0.52      0.43        60\n",
      "           1       0.52      0.55      0.53        85\n",
      "           2       0.41      0.21      0.28        53\n",
      "           3       0.44      0.40      0.42        60\n",
      "           4       0.46      0.47      0.47        59\n",
      "\n",
      "    accuracy                           0.44       317\n",
      "   macro avg       0.44      0.43      0.43       317\n",
      "weighted avg       0.45      0.44      0.44       317\n",
      "\n"
     ]
    }
   ],
   "source": [
    "print(classification_report(y_test, preds))"
   ]
  },
  {
   "cell_type": "markdown",
   "id": "a4707b1b-e660-42d8-b53f-2f0aae028c47",
   "metadata": {},
   "source": [
    "# Null distribution"
   ]
  },
  {
   "cell_type": "code",
   "execution_count": null,
   "id": "d44ebb0b-5070-4e5d-b1e2-46780e931728",
   "metadata": {
    "tags": []
   },
   "outputs": [],
   "source": [
    "acc_vec = []\n",
    "# The lines below may take a long time to execute.\n",
    "for i in range(1000):\n",
    "    random.seed(i)\n",
    "    y_train_shuffled = list(y_train)\n",
    "    y_train_shuffled = random.sample(y_train_shuffled, len(y_train_shuffled))\n",
    "\n",
    "    model = LGBMClassifier(verbose = 0)\n",
    "    model.fit(X_train, list(y_train_shuffled))\n",
    "    preds = model.predict(X_test)\n",
    "\n",
    "    acc_vec.append(accuracy_score(y_test, preds))\n",
    "\n",
    "with open(f\"accuracy_null_dist.pkl\", \"wb\") as f:\n",
    "    pickle.dump(acc_vec, f)"
   ]
  },
  {
   "cell_type": "markdown",
   "id": "bbfa9de8-a9c4-44e0-9c65-b64bd99974c3",
   "metadata": {},
   "source": [
    "# Calculate p-value"
   ]
  },
  {
   "cell_type": "code",
   "execution_count": 11,
   "id": "ade464e5-242a-43bd-a7db-48217ac40fd2",
   "metadata": {
    "tags": []
   },
   "outputs": [
    {
     "name": "stdout",
     "output_type": "stream",
     "text": [
      "P-value:  0\n"
     ]
    }
   ],
   "source": [
    "with open(f\"accuracy_null_dist.pkl\", 'rb') as file:\n",
    "    acc_vec = pickle.load(file)\n",
    "    \n",
    "observed_accuracy = 0.44\n",
    "print(\"P-value: \", sum(list(map(lambda x: x > observed_accuracy, acc_vec))))"
   ]
  },
  {
   "cell_type": "markdown",
   "id": "455876a0-8d00-424e-be0b-8d6890b11e5b",
   "metadata": {},
   "source": [
    "# Visulalization"
   ]
  },
  {
   "cell_type": "code",
   "execution_count": 12,
   "id": "2c29a62a-884f-4ff3-943b-9bb7ea310d21",
   "metadata": {
    "tags": []
   },
   "outputs": [
    {
     "data": {
      "text/plain": [
       "Text(0.29000000000000004, 50, 'Observed Accuracy')"
      ]
     },
     "execution_count": 12,
     "metadata": {},
     "output_type": "execute_result"
    },
    {
     "data": {
      "image/png": "[encoded data removed]",
      "text/plain": [
       "<Figure size 640x480 with 1 Axes>"
      ]
     },
     "metadata": {},
     "output_type": "display_data"
    }
   ],
   "source": [
    "plt.hist(acc_vec)\n",
    "plt.title('Null Distribution')\n",
    "plt.xlabel('Accuracy')\n",
    "plt.ylabel('Frequency')\n",
    "\n",
    "plt.plot(observed_accuracy, 2, 'r*', markersize=4, label=f'Observed Accuracy = {observed_accuracy}')\n",
    "plt.annotate(f'Observed Accuracy', \n",
    "             xy=(observed_accuracy, 3), \n",
    "             xytext=(observed_accuracy - 0.15, 50),\n",
    "             arrowprops=dict(facecolor='black', shrink=0.1))"
   ]
  },
  {
   "cell_type": "code",
   "execution_count": null,
   "id": "87dcec38-d84b-42c6-a3a8-7e0ed5423dce",
   "metadata": {},
   "outputs": [],
   "source": []
  }
 ],
 "metadata": {
  "kernelspec": {
   "display_name": "rapids-24.04",
   "language": "python",
   "name": "rapids-24.04"
  },
  "language_info": {
   "codemirror_mode": {
    "name": "ipython",
    "version": 3
   },
   "file_extension": ".py",
   "mimetype": "text/x-python",
   "name": "python",
   "nbconvert_exporter": "python",
   "pygments_lexer": "ipython3",
   "version": "3.11.9"
  }
 },
 "nbformat": 4,
 "nbformat_minor": 5
}
