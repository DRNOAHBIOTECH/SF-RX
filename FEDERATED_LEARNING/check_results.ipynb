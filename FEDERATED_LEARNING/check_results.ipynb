{
 "cells": [
  {
   "cell_type": "code",
   "execution_count": 1,
   "id": "abfc2677-cee6-48ed-926c-5b24dc3a2537",
   "metadata": {
    "tags": []
   },
   "outputs": [],
   "source": [
    "import pandas as pd\n",
    "import matplotlib.pyplot as plt\n",
    "from config import *"
   ]
  },
  {
   "cell_type": "code",
   "execution_count": 2,
   "id": "d45e7592-e688-42b9-9011-d64646b93e9a",
   "metadata": {
    "tags": []
   },
   "outputs": [],
   "source": [
    "def fl_fig(df, chosen_metric, chosen_level):\n",
    "    df_filtered = df[(df['metric'] == chosen_metric) & (df['level'] == chosen_level)]\n",
    "\n",
    "    df_filtered = df_filtered.set_index('data_source').transpose()\n",
    "    df_filtered = df_filtered.drop(['metric', 'level'])\n",
    "\n",
    "    plt.figure(figsize=(10, 6))\n",
    "    for data_source in df_filtered.columns:\n",
    "        plt.plot(df_filtered.index, df_filtered[data_source], label=data_source)\n",
    "\n",
    "    plt.title(f\"Level: {chosen_level}, Metric: {chosen_metric}\")\n",
    "    plt.xlabel(\"Round\")\n",
    "    plt.ylabel(f\"{chosen_metric}\")\n",
    "    plt.legend(title=\"Data Source\")\n",
    "    plt.grid(True)\n",
    "    plt.show()"
   ]
  },
  {
   "cell_type": "code",
   "execution_count": 11,
   "id": "8138950e-098e-4816-b96e-7c5550d94b5a",
   "metadata": {
    "tags": []
   },
   "outputs": [],
   "source": [
    "lvs = range(1,5)\n",
    "fl_rounds = range(1,30)"
   ]
  },
  {
   "cell_type": "markdown",
   "id": "d7ac9a08-c72f-432f-9753-74679a59e990",
   "metadata": {},
   "source": [
    "# Condition 1"
   ]
  },
  {
   "cell_type": "code",
   "execution_count": 12,
   "id": "4f430243-5710-4d97-ab92-f4d521bd77fa",
   "metadata": {
    "tags": []
   },
   "outputs": [],
   "source": [
    "condition = 1\n",
    "total_results = []\n",
    "for lv in lvs:\n",
    "    lv_results = []\n",
    "    for dat_src in DATA_SOURCE:\n",
    "        source_result_df = pd.DataFrame()\n",
    "        for fl_round in fl_rounds:\n",
    "            result_temp = pd.read_csv(RESULT_PATH + f\"Condition{condition}/lv{lv}/round{fl_round}/{dat_src}_results.csv\", index_col = 0)\n",
    "            source_result_df = pd.concat([source_result_df, result_temp.iloc[2,:]], axis =1)\n",
    "        source_result_df.columns = fl_rounds\n",
    "        source_result_df['data_source'] = dat_src\n",
    "        source_result_df.reset_index(inplace = True)\n",
    "        source_result_df = source_result_df.rename(columns = {'index':'metric'})\n",
    "        lv_results.append(source_result_df)\n",
    "    temp_lv_result = pd.concat(lv_results, axis = 0)\n",
    "    temp_lv_result['level'] = lv\n",
    "    total_results.append(temp_lv_result)"
   ]
  },
  {
   "cell_type": "code",
   "execution_count": 13,
   "id": "a929f7f4-efac-4366-ab37-13c72f410ec3",
   "metadata": {
    "tags": []
   },
   "outputs": [],
   "source": [
    "total_result_df = pd.concat(total_results, axis = 0)"
   ]
  },
  {
   "cell_type": "code",
   "execution_count": 14,
   "id": "eb7ef218-e3a6-4fd2-99d2-5330ef87b84d",
   "metadata": {
    "tags": []
   },
   "outputs": [],
   "source": [
    "df = total_result_df"
   ]
  },
  {
   "cell_type": "markdown",
   "id": "18b6bce9-27e5-43fe-8d2f-3892d1cc243f",
   "metadata": {},
   "source": [
    "# Condition 2"
   ]
  },
  {
   "cell_type": "code",
   "execution_count": 27,
   "id": "d86c6b13-7478-4a93-80e8-4ed2e11158dd",
   "metadata": {
    "tags": []
   },
   "outputs": [],
   "source": [
    "condition = 2\n",
    "total_results = []\n",
    "for lv in lvs:\n",
    "    lv_results = []\n",
    "    for dat_src in DATA_SOURCE:\n",
    "        source_result_df = pd.DataFrame()\n",
    "        for fl_round in fl_rounds:\n",
    "            result_temp = pd.read_csv(RESULT_PATH + f\"Condition{condition}/lv{lv}/round{fl_round}/{dat_src}_results.csv\", index_col = 0)\n",
    "            source_result_df = pd.concat([source_result_df, result_temp.iloc[2,:]], axis =1)\n",
    "        source_result_df.columns = fl_rounds\n",
    "        source_result_df['data_source'] = dat_src\n",
    "        source_result_df.reset_index(inplace = True)\n",
    "        source_result_df = source_result_df.rename(columns = {'index':'metric'})\n",
    "        lv_results.append(source_result_df)\n",
    "    temp_lv_result = pd.concat(lv_results, axis = 0)\n",
    "    temp_lv_result['level'] = lv\n",
    "    total_results.append(temp_lv_result)"
   ]
  },
  {
   "cell_type": "code",
   "execution_count": 28,
   "id": "6138c506-01c8-4967-ad36-abe13cc0af8d",
   "metadata": {
    "tags": []
   },
   "outputs": [],
   "source": [
    "total_result_df = pd.concat(total_results, axis = 0)"
   ]
  },
  {
   "cell_type": "code",
   "execution_count": 29,
   "id": "bf1bcac0-502f-4019-932d-ce8921ffdcfb",
   "metadata": {
    "tags": []
   },
   "outputs": [],
   "source": [
    "df2 = total_result_df"
   ]
  },
  {
   "cell_type": "markdown",
   "id": "37ea5e38-99e4-4e0d-89ca-c1e416327b1a",
   "metadata": {},
   "source": [
    "## Check effect"
   ]
  },
  {
   "cell_type": "code",
   "execution_count": 34,
   "id": "ac7c72ac-9301-4ded-8df8-5b6d0a8ed901",
   "metadata": {
    "tags": []
   },
   "outputs": [],
   "source": [
    "chosen_metric = 'f1_macro'"
   ]
  },
  {
   "cell_type": "code",
   "execution_count": null,
   "id": "599f8559-f5d1-473b-af4a-3ff305a0d980",
   "metadata": {
    "tags": []
   },
   "outputs": [],
   "source": [
    "import seaborn as sns\n",
    "    \n",
    "def effect_plot_dat_src(data, chosen_metric, chosen_cond):\n",
    "    filtered_data = data[(data['metric'] == chosen_metric) & (data['condition'] == chosen_cond)]\n",
    "    dat_src_dict = {'drn':'Dr.Noah','pdr':'pdr'}\n",
    "    plt.figure(figsize=(10, 6))\n",
    "    sns.barplot(data=filtered_data, x='level', y='effect', hue='data_source')#, ci=None)\n",
    "    \n",
    "    plt.title(f\"[{chosen_cond}] Effect of Federated Learning by Data Source for Each Level\")\n",
    "    plt.xlabel(\"Level\")\n",
    "    plt.ylabel(f\"Delta {chosen_metric}\")\n",
    "\n",
    "    plt.legend(title=\"Data Source\")\n",
    "    plt.show()"
   ]
  },
  {
   "cell_type": "code",
   "execution_count": 36,
   "id": "ed6e58cb-2326-4a56-a35b-0be9776e39ee",
   "metadata": {
    "tags": []
   },
   "outputs": [],
   "source": [
    "eff = df.loc[:,11] - df.loc[:,1]\n",
    "eff2 = df2.loc[:,11] - df2.loc[:,1]\n",
    "\n",
    "eff_df = pd.DataFrame({'effect':eff, 'metric':df.metric, 'data_source':df.data_source, 'level':df.level})\n",
    "eff_df['condition'] = 'condition_1'\n",
    "\n",
    "eff_df2 = pd.DataFrame({'effect':eff2, 'metric':df2.metric, 'data_source':df2.data_source, 'level':df2.level})\n",
    "eff_df2['condition'] = 'condition_2'\n",
    "\n",
    "data = pd.concat([eff_df, eff_df2],axis = 0)"
   ]
  }
 ],
 "metadata": {
  "kernelspec": {
   "display_name": "rapids-24.04",
   "language": "python",
   "name": "rapids-24.04"
  },
  "language_info": {
   "codemirror_mode": {
    "name": "ipython",
    "version": 3
   },
   "file_extension": ".py",
   "mimetype": "text/x-python",
   "name": "python",
   "nbconvert_exporter": "python",
   "pygments_lexer": "ipython3",
   "version": "3.11.9"
  }
 },
 "nbformat": 4,
 "nbformat_minor": 5
}
